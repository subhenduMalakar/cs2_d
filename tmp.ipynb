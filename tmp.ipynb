{
 "cells": [
  {
   "cell_type": "code",
   "execution_count": 1,
   "metadata": {},
   "outputs": [],
   "source": [
    "from flask import Flask, render_template, request\n",
    "import joblib\n",
    "import numpy as np\n",
    "import pandas as pd\n",
    "import matplotlib.pyplot as plt\n",
    "import os\n",
    "import warnings\n",
    "warnings.filterwarnings('ignore')\n",
    "from sklearn.model_selection import train_test_split\n",
    "from sklearn.metrics import confusion_matrix, accuracy_score, precision_score , log_loss\n",
    "import opendatasets as od\n",
    "from flask import Flask\n",
    "from flask_caching import Cache\n",
    "from apscheduler.schedulers.background import BackgroundScheduler\n",
    "from werkzeug.utils import secure_filename\n",
    "import tensorflow as tf\n",
    "from zipfile import ZipFile\n",
    "import time"
   ]
  },
  {
   "cell_type": "code",
   "execution_count": null,
   "metadata": {},
   "outputs": [],
   "source": [
    "ResNet50_model = tf.keras.models.load_model('img\\download.png')\n",
    "path=\n",
    "pre1=tf.keras.preprocessing.image.load_img(path,target_size=(128, 128)) # For class afghan_hound\n",
    "pre2 = tf.keras.preprocessing.image.img_to_array(pre1)\n",
    "pre2 = np.expand_dims(pre2, axis = 0)\n",
    "pred=ResNet50_model.predict(pre2)"
   ]
  }
 ],
 "metadata": {
  "interpreter": {
   "hash": "21225db83fe96c89d15aba0b52d9716bebac2c87b51fec56cf427601e3c2bac5"
  },
  "kernelspec": {
   "display_name": "Python 3.9.12 ('base')",
   "language": "python",
   "name": "python3"
  },
  "language_info": {
   "codemirror_mode": {
    "name": "ipython",
    "version": 3
   },
   "file_extension": ".py",
   "mimetype": "text/x-python",
   "name": "python",
   "nbconvert_exporter": "python",
   "pygments_lexer": "ipython3",
   "version": "3.9.12"
  },
  "orig_nbformat": 4
 },
 "nbformat": 4,
 "nbformat_minor": 2
}
